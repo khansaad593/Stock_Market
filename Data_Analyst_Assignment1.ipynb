{
  "nbformat": 4,
  "nbformat_minor": 0,
  "metadata": {
    "colab": {
      "provenance": [],
      "authorship_tag": "ABX9TyN4fZ6z3oNUt9fsSLDBrlNo",
      "include_colab_link": true
    },
    "kernelspec": {
      "name": "python3",
      "display_name": "Python 3"
    },
    "language_info": {
      "name": "python"
    }
  },
  "cells": [
    {
      "cell_type": "markdown",
      "metadata": {
        "id": "view-in-github",
        "colab_type": "text"
      },
      "source": [
        "<a href=\"https://colab.research.google.com/github/khansaad593/Stock_Market/blob/main/Data_Analyst_Assignment1.ipynb\" target=\"_parent\"><img src=\"https://colab.research.google.com/assets/colab-badge.svg\" alt=\"Open In Colab\"/></a>"
      ]
    },
    {
      "cell_type": "code",
      "execution_count": 18,
      "metadata": {
        "id": "y0_Bz7g5fr9L"
      },
      "outputs": [],
      "source": [
        "import pandas as pd\n",
        "\n",
        "# Create an empty DataFrame\n",
        "trade_data = pd.DataFrame(columns=['Exit Price', 'Entry Price'])\n",
        "\n",
        "import numpy as np\n",
        "\n",
        "\n"
      ]
    },
    {
      "cell_type": "markdown",
      "source": [],
      "metadata": {
        "id": "COvpOG3WgEfi"
      }
    },
    {
      "cell_type": "code",
      "source": [
        "trade_data = pd.read_csv('/tradelog.csv')"
      ],
      "metadata": {
        "id": "xUYYyCjAgFA_"
      },
      "execution_count": 19,
      "outputs": []
    },
    {
      "cell_type": "code",
      "source": [
        "# Define the initial portfolio value and risk-free interest rate\n",
        "initial_portfolio_value = 6500\n",
        "risk_free_rate = 0.05"
      ],
      "metadata": {
        "id": "vzWWRNGvhEtV"
      },
      "execution_count": 12,
      "outputs": []
    },
    {
      "cell_type": "code",
      "source": [
        "# Define functions to calculate the required parameters\n",
        "def calculate_parameters(trade_data):\n",
        "    total_trades = len(trade_data)\n",
        "    profitable_trades = len(trade_data[trade_data['Exit Price'] > trade_data['Entry Price']])\n",
        "    loss_making_trades = total_trades - profitable_trades\n",
        "    win_rate = profitable_trades / total_trades"
      ],
      "metadata": {
        "id": "sdLpc-P1gAj5"
      },
      "execution_count": 13,
      "outputs": []
    },
    {
      "cell_type": "code",
      "source": [
        "# Calculate profit and loss for each trade\n",
        "trade_data['Profit'] = trade_data['Exit Price'] - trade_data['Entry Price']\n",
        "average_profit_per_trade = trade_data['Profit'][trade_data['Profit'] > 0].mean()\n",
        "average_loss_per_trade = -trade_data['Profit'][trade_data['Profit'] < 0].mean()\n",
        "\n"
      ],
      "metadata": {
        "id": "dKL6sz_ChbGc"
      },
      "execution_count": 20,
      "outputs": []
    },
    {
      "cell_type": "code",
      "source": [
        "\n",
        "    risk_reward_ratio = average_profit_per_trade / average_loss_per_trade"
      ],
      "metadata": {
        "id": "YebuU8Wuj5kG"
      },
      "execution_count": 21,
      "outputs": []
    },
    {
      "cell_type": "code",
      "source": [
        "win_rate = 0.7  # Replace with your actual win rate\n",
        "loss_rate = 0.3  # Replace with your actual loss rate\n",
        "expectancy = (win_rate * average_profit_per_trade) - (loss_rate * average_loss_per_trade)\n"
      ],
      "metadata": {
        "id": "bClQkxkikCZX"
      },
      "execution_count": 24,
      "outputs": []
    },
    {
      "cell_type": "code",
      "source": [
        "\n",
        "    # Calculate average rate of return per trade\n",
        "    trade_data['Return'] = (trade_data['Exit Price'] - trade_data['Entry Price']) / trade_data['Entry Price']\n",
        "    average_ror_per_trade = trade_data['Return'].mean()\n"
      ],
      "metadata": {
        "id": "qJAJGQLnk-DK"
      },
      "execution_count": 25,
      "outputs": []
    },
    {
      "cell_type": "code",
      "source": [
        "\n",
        "    # Calculate standard deviation of returns\n",
        "    portfolio_returns = (trade_data['Exit Price'] - trade_data['Entry Price']) / initial_portfolio_value\n",
        "    std_dev = np.std(portfolio_returns)"
      ],
      "metadata": {
        "id": "zim2elYAlGfH"
      },
      "execution_count": 26,
      "outputs": []
    },
    {
      "cell_type": "code",
      "source": [
        "  sharpe_ratio = (average_ror_per_trade - risk_free_rate) / std_dev\n",
        ""
      ],
      "metadata": {
        "id": "8dTd9I6plK1a"
      },
      "execution_count": 28,
      "outputs": []
    },
    {
      "cell_type": "code",
      "source": [
        "    ending_portfolio_value = initial_portfolio_value * (1 + portfolio_returns).prod()\n",
        "    num_periods = len(trade_data)\n",
        "    cagr = (ending_portfolio_value / initial_portfolio_value) ** (1 / num_periods) - 1\n",
        "\n"
      ],
      "metadata": {
        "id": "3eEcP7k7lil_"
      },
      "execution_count": 47,
      "outputs": []
    },
    {
      "cell_type": "code",
      "source": [
        "   # Calculate Max Drawdown\n",
        "   cum_returns = (portfolio_returns + 1).cumprod()\n",
        "   previous_peaks = cum_returns.cummax()\n",
        "   drawdowns = (cum_returns - previous_peaks) / previous_peaks\n",
        "   max_drawdown = drawdowns.min()\n",
        "   max_drawdown_percentage = max_drawdown * 100"
      ],
      "metadata": {
        "id": "KfPMCw5cm7Rm"
      },
      "execution_count": 50,
      "outputs": []
    },
    {
      "cell_type": "code",
      "source": [
        " # Calculate Calmar Ratio\n",
        "calmar_ratio = cagr / abs(max_drawdown)"
      ],
      "metadata": {
        "id": "_sl5wFrGmwZl"
      },
      "execution_count": 53,
      "outputs": []
    },
    {
      "cell_type": "code",
      "source": [
        "# Sample trade data\n",
        "trade_data = {\n",
        "    \"Entry Price\": [100, 110, 105, 120, 130],\n",
        "    \"Exit Price\": [105, 112, 107, 125, 135]\n",
        "}\n",
        "\n",
        "\n",
        "\n",
        "\n",
        "\n"
      ],
      "metadata": {
        "id": "NmaHYJ1RnWGY"
      },
      "execution_count": 58,
      "outputs": []
    },
    {
      "cell_type": "code",
      "source": [
        "# Calculate total trades\n",
        "total_trades = len(trade_data[\"Entry Price\"])"
      ],
      "metadata": {
        "id": "OuJPHbBMoztt"
      },
      "execution_count": 59,
      "outputs": []
    },
    {
      "cell_type": "code",
      "source": [
        "\n",
        "# Calculate profitable and loss-making trades\n",
        "profits = [exit - entry for entry, exit in zip(trade_data[\"Entry Price\"], trade_data[\"Exit Price\"])]\n",
        "profitable_trades = sum(profit > 0 for profit in profits)\n",
        "loss_making_trades = total_trades - profitable_trades"
      ],
      "metadata": {
        "id": "c0JDkjo0o3vU"
      },
      "execution_count": 60,
      "outputs": []
    },
    {
      "cell_type": "code",
      "source": [
        "# Calculate win rate\n",
        "win_rate = profitable_trades / total_trades"
      ],
      "metadata": {
        "id": "VzptbozHo7MR"
      },
      "execution_count": 61,
      "outputs": []
    },
    {
      "cell_type": "code",
      "source": [
        "# Calculate average profit and loss per trade\n",
        "positive_profits = [profit for profit in profits if profit > 0]\n",
        "negative_profits = [profit for profit in profits if profit < 0]\n",
        "average_profit_per_trade = sum(positive_profits) / profitable_trades"
      ],
      "metadata": {
        "id": "Wjfjg7FOpAuJ"
      },
      "execution_count": 63,
      "outputs": []
    },
    {
      "cell_type": "code",
      "source": [
        "# Check if there are loss-making trades before calculating average_loss_per_trade\n",
        "if loss_making_trades > 0:\n",
        "    average_loss_per_trade = -sum(negative_profits) / loss_making_trades\n",
        "else:\n",
        "    average_loss_per_trade = 0  # or any value you prefer when there are no loss-making trades"
      ],
      "metadata": {
        "id": "g7CurmWkpUjR"
      },
      "execution_count": 64,
      "outputs": []
    },
    {
      "cell_type": "code",
      "source": [
        "# Calculate metrics function\n",
        "def calculate_metrics():\n",
        "    return {\n",
        "        \"Total Trades\": total_trades,\n",
        "        \"Profitable Trades\": profitable_trades,\n",
        "        \"Loss-Making Trades\": loss_making_trades,\n",
        "        \"Win Rate\": win_rate,\n",
        "        \"Average Profit per Trade\": average_profit_per_trade,\n",
        "        \"Average Loss per Trade\": average_loss_per_trade,\n",
        "\n",
        "    }"
      ],
      "metadata": {
        "id": "-nsHoiNlpclH"
      },
      "execution_count": 65,
      "outputs": []
    },
    {
      "cell_type": "code",
      "source": [
        "# Call the function to get the metrics\n",
        "metrics = calculate_metrics()"
      ],
      "metadata": {
        "id": "I-tZkzOsp98L"
      },
      "execution_count": 66,
      "outputs": []
    },
    {
      "cell_type": "code",
      "source": [
        "# Print the metrics\n",
        "print(metrics)\n"
      ],
      "metadata": {
        "colab": {
          "base_uri": "https://localhost:8080/"
        },
        "id": "WmOznS-hqDdF",
        "outputId": "0769330f-604a-4b25-826f-a8fe1c36e52e"
      },
      "execution_count": 67,
      "outputs": [
        {
          "output_type": "stream",
          "name": "stdout",
          "text": [
            "{'Total Trades': 5, 'Profitable Trades': 5, 'Loss-Making Trades': 0, 'Win Rate': 1.0, 'Average Profit per Trade': 3.8, 'Average Loss per Trade': 0}\n"
          ]
        }
      ]
    }
  ]
}